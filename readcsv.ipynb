{
 "cells": [
  {
   "cell_type": "code",
   "execution_count": 4,
   "metadata": {},
   "outputs": [],
   "source": [
    "import pandas as pd\n",
    "import numpy as np"
   ]
  },
  {
   "cell_type": "code",
   "execution_count": 5,
   "metadata": {},
   "outputs": [],
   "source": [
    "# !pip install openpyxl"
   ]
  },
  {
   "cell_type": "code",
   "execution_count": 9,
   "metadata": {},
   "outputs": [
    {
     "ename": "FileNotFoundError",
     "evalue": "[WinError 3] 지정된 경로를 찾을 수 없습니다: '/data/csv/'",
     "output_type": "error",
     "traceback": [
      "\u001b[1;31m---------------------------------------------------------------------------\u001b[0m",
      "\u001b[1;31mFileNotFoundError\u001b[0m                         Traceback (most recent call last)",
      "Cell \u001b[1;32mIn[9], line 3\u001b[0m\n\u001b[0;32m      1\u001b[0m \u001b[39mimport\u001b[39;00m \u001b[39mos\u001b[39;00m\n\u001b[1;32m----> 3\u001b[0m os\u001b[39m.\u001b[39;49mchdir(\u001b[39m'\u001b[39;49m\u001b[39m/data/csv/\u001b[39;49m\u001b[39m'\u001b[39;49m)\n\u001b[0;32m      4\u001b[0m file_names \u001b[39m=\u001b[39m os\u001b[39m.\u001b[39mlistdir()\n\u001b[0;32m      6\u001b[0m \u001b[39mfor\u001b[39;00m filename \u001b[39min\u001b[39;00m file_names:\n",
      "\u001b[1;31mFileNotFoundError\u001b[0m: [WinError 3] 지정된 경로를 찾을 수 없습니다: '/data/csv/'"
     ]
    }
   ],
   "source": [
    "import os\n",
    "\n",
    "os.chdir('./')\n",
    "file_names = os.listdir()\n",
    "\n",
    "for filename in file_names:\n",
    "    if os.path.splitext(filename)[1] == '.csv':\n",
    "        tmp_df = pd.read_csv(filename)\n",
    "        if 'Unnamed: 0' in tmp_df.columns:\n",
    "            tmp_df.drop(columns=['Unnamed: 0'], inplace=True)\n",
    "        tmp_df.to_excel(f\"{os.path.splitext(filename)[0]}_excel.xlsx\", index=False)"
   ]
  },
  {
   "cell_type": "code",
   "execution_count": 13,
   "metadata": {},
   "outputs": [],
   "source": [
    "import zipfile\n",
    "os.chdir('./')\n",
    "file_names = os.listdir()\n",
    "ziplist = [filename for filename in file_names if os.path.splitext(filename)[1] == '.xlsx']\n",
    "my_zip = zipfile.ZipFile(\"refactorize.zip\", 'w')\n",
    "with zipfile.ZipFile(\"refactorize.zip\", 'w') as my_zip:\n",
    "    for i in ziplist:\n",
    "        my_zip.write(i)\n",
    "    my_zip.close()"
   ]
  },
  {
   "cell_type": "code",
   "execution_count": 2,
   "metadata": {},
   "outputs": [],
   "source": [
    "import csv\n",
    "import json\n",
    "\n",
    "data = []\n",
    "with open('./data/csv/CPU.csv', 'r', encoding='UTF8') as csv_file:\n",
    "    reader = csv.DictReader(csv_file)\n",
    "    data = list(reader)\n",
    "    \n",
    "with open('./data/json/CPU.json', 'w',encoding='UTF8') as json_file:\n",
    "    json.dump(data, json_file)"
   ]
  },
  {
   "cell_type": "code",
   "execution_count": null,
   "metadata": {},
   "outputs": [],
   "source": []
  }
 ],
 "metadata": {
  "kernelspec": {
   "display_name": "wine_food_pairing-master-SwtXB6zX",
   "language": "python",
   "name": "python3"
  },
  "language_info": {
   "codemirror_mode": {
    "name": "ipython",
    "version": 3
   },
   "file_extension": ".py",
   "mimetype": "text/x-python",
   "name": "python",
   "nbconvert_exporter": "python",
   "pygments_lexer": "ipython3",
   "version": "3.8.10"
  },
  "orig_nbformat": 4
 },
 "nbformat": 4,
 "nbformat_minor": 2
}
